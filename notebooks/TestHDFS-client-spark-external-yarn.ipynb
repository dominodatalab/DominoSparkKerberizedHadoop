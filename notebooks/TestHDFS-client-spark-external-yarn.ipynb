{
 "cells": [
  {
   "cell_type": "code",
   "execution_count": 2,
   "metadata": {},
   "outputs": [
    {
     "name": "stdout",
     "output_type": "stream",
     "text": [
      "rmr: DEPRECATED: Please use '-rm -r' instead.\n",
      "Deleted example\n"
     ]
    }
   ],
   "source": [
    "!hdfs dfs -rmr example*"
   ]
  },
  {
   "cell_type": "code",
   "execution_count": 1,
   "metadata": {},
   "outputs": [],
   "source": [
    "from pyspark.sql import SparkSession\n"
   ]
  },
  {
   "cell_type": "code",
   "execution_count": 3,
   "metadata": {},
   "outputs": [],
   "source": [
    "sparkSession = SparkSession.builder.appName(\"example-pyspark-read-and-write\") \\\n",
    ".config(\"fs.default.name\", \"hdfs://10.0.1.76:8020\") \\\n",
    ".getOrCreate()\n"
   ]
  },
  {
   "cell_type": "code",
   "execution_count": 4,
   "metadata": {},
   "outputs": [
    {
     "data": {
      "text/html": [
       "\n",
       "            <div>\n",
       "                <p><b>SparkSession - in-memory</b></p>\n",
       "                \n",
       "        <div>\n",
       "            <p><b>SparkContext</b></p>\n",
       "\n",
       "            <p><a href=\"http://10.0.52.42:31404\">Spark UI</a></p>\n",
       "\n",
       "            <dl>\n",
       "              <dt>Version</dt>\n",
       "                <dd><code>v3.1.1-amzn-0</code></dd>\n",
       "              <dt>Master</dt>\n",
       "                <dd><code>yarn</code></dd>\n",
       "              <dt>AppName</dt>\n",
       "                <dd><code>example-pyspark-read-and-write</code></dd>\n",
       "            </dl>\n",
       "        </div>\n",
       "        \n",
       "            </div>\n",
       "        "
      ],
      "text/plain": [
       "<pyspark.sql.session.SparkSession at 0x7f8d88899910>"
      ]
     },
     "execution_count": 4,
     "metadata": {},
     "output_type": "execute_result"
    }
   ],
   "source": [
    "sparkSession"
   ]
  },
  {
   "cell_type": "code",
   "execution_count": 5,
   "metadata": {},
   "outputs": [],
   "source": [
    "import random\n",
    "#Create datasets\n",
    "data = []\n",
    "cnt=10000\n",
    "for i in range(cnt):\n",
    "   data.append((i,random.randint(1,100),random.randint(1,100),random.randint(1,100)))\n"
   ]
  },
  {
   "cell_type": "code",
   "execution_count": 6,
   "metadata": {},
   "outputs": [],
   "source": [
    "# Create data\n",
    "#data = [('First', 1), ('Second', 2), ('Third', 3), ('Fourth', 4), ('Fifth', 5)]\n",
    "df = sparkSession.createDataFrame(data)\n",
    "\n",
    "# Write into HDFS\n",
    "df.write.csv(\"/user/dominospark/example\")"
   ]
  },
  {
   "cell_type": "code",
   "execution_count": 7,
   "metadata": {},
   "outputs": [
    {
     "name": "stdout",
     "output_type": "stream",
     "text": [
      "+----+---+---+---+\n",
      "| _c0|_c1|_c2|_c3|\n",
      "+----+---+---+---+\n",
      "|3072| 71| 53| 21|\n",
      "|3073| 76|  4| 30|\n",
      "|3074| 29| 45| 54|\n",
      "|3075| 99| 21|  8|\n",
      "|3076| 52|  6| 63|\n",
      "|3077| 14| 11| 82|\n",
      "|3078| 69| 38| 28|\n",
      "|3079| 20| 50| 55|\n",
      "|3080|  4| 12| 83|\n",
      "|3081| 62|  8| 54|\n",
      "|3082| 96| 46| 51|\n",
      "|3083| 57| 92| 42|\n",
      "|3084|  4| 28| 52|\n",
      "|3085| 87|  9| 24|\n",
      "|3086| 31|  6| 70|\n",
      "|3087| 37| 42|  8|\n",
      "|3088| 98| 46|  5|\n",
      "|3089| 43| 60| 34|\n",
      "|3090| 11|  8| 33|\n",
      "|3091| 99| 40|  6|\n",
      "+----+---+---+---+\n",
      "only showing top 20 rows\n",
      "\n"
     ]
    }
   ],
   "source": [
    "df_load = sparkSession.read.csv('/user/dominospark/example')\n",
    "df_load.show()"
   ]
  },
  {
   "cell_type": "code",
   "execution_count": 8,
   "metadata": {},
   "outputs": [],
   "source": [
    "sparkSession.stop()"
   ]
  },
  {
   "cell_type": "code",
   "execution_count": 9,
   "metadata": {},
   "outputs": [
    {
     "name": "stdout",
     "output_type": "stream",
     "text": [
      "Found 3 items\n",
      "drwxr-xr-x   - dominospark dominospark          0 2021-08-11 18:23 /user/dominospark/.sparkStaging\n",
      "drwxr-xr-x   - dominospark dominospark          0 2021-08-11 18:23 /user/dominospark/example\n",
      "drwxr-xr-x   - dominospark dominospark          0 2021-08-11 15:36 /user/dominospark/test\n"
     ]
    }
   ],
   "source": [
    "!hdfs dfs -ls /user/dominospark"
   ]
  },
  {
   "cell_type": "code",
   "execution_count": null,
   "metadata": {},
   "outputs": [],
   "source": []
  }
 ],
 "metadata": {
  "kernelspec": {
   "display_name": "Python 3",
   "language": "python",
   "name": "python3"
  },
  "language_info": {
   "codemirror_mode": {
    "name": "ipython",
    "version": 3
   },
   "file_extension": ".py",
   "mimetype": "text/x-python",
   "name": "python",
   "nbconvert_exporter": "python",
   "pygments_lexer": "ipython3",
   "version": "3.7.4"
  }
 },
 "nbformat": 4,
 "nbformat_minor": 4
}
