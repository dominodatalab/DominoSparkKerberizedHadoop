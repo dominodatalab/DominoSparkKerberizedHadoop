{
 "cells": [
  {
   "cell_type": "code",
   "execution_count": 1,
   "metadata": {},
   "outputs": [
    {
     "name": "stdout",
     "output_type": "stream",
     "text": [
      "env: HADOOP_HOME=/usr/lib/hadoop\n",
      "env: HADOOP_CONF_DIR=/etc/hadoop/conf\n",
      "env: HADOOP_YARN_HOME=/usr/lib/hadoop\n",
      "env: HADOOP_MAPRED_HOME=/usr/lib/hadoop\n",
      "env: HADOOP_HDFS_HOME=/usr/lib/hadoop-hdfs\n",
      "env: SPARK_HOME=/usr/lib/spark\n",
      "env: SPARK_CONF_DIR=/etc/spark/conf\n",
      "env: PYSPARK_PYTHON=/opt/conda/bin/python\n",
      "env: PYSPARK_DRIVER_PYTHON=/opt/conda/bin/python\n",
      "env: PYTHONPATH=/usr/lib/spark/python/lib/py4j-0.10.7-src.zip\n",
      "Deleted /user/dominospark/example\n",
      "Deleted /user/dominospark/example1-6\n",
      "Deleted /user/dominospark/example1-7\n",
      "/usr/lib/spark/python/lib/py4j-0.10.7-src.zip\n"
     ]
    }
   ],
   "source": [
    "%env HADOOP_HOME /usr/lib/hadoop\n",
    "%env HADOOP_CONF_DIR /etc/hadoop/conf\n",
    "%env HADOOP_YARN_HOME /usr/lib/hadoop\n",
    "%env HADOOP_MAPRED_HOME /usr/lib/hadoop\n",
    "%env HADOOP_HDFS_HOME /usr/lib/hadoop-hdfs\n",
    "\n",
    "%env SPARK_HOME /usr/lib/spark\n",
    "%env SPARK_CONF_DIR /etc/spark/conf\n",
    "#%env PYTHONPATH /opt/spark/python/lib/py4j-0.10.7-src.zip\n",
    "%env PYSPARK_PYTHON /opt/conda/bin/python\n",
    "%env PYSPARK_DRIVER_PYTHON /opt/conda/bin/python\n",
    "%env PYTHONPATH /usr/lib/spark/python/lib/py4j-0.10.7-src.zip\n",
    "#%env PATH /usr/lib/hadoop/bin:/bin:/usr/lib/spark/bin::/usr/bin:/sbin:/bin:/usr/games:/usr/local/games:/tmp:/opt/oracle/instantclient_12_1:/home/ubuntu/.local/bin:/opt/conda/bin:/usr/local/sbin:/usr/local/bin:/usr/sbin:/usr/bin:/sbin:/bin:/usr/games:/usr/local/games:/usr/share/scala/bin:/opt/oracle/instantclient_12_1:/home/ubuntu/.local/bin:/opt/conda/bin:/usr/local/sbin:/usr/local/bin:/usr/sbin:/usr/bin:/sbin:/bin:/usr/games:/usr/local/games:/usr/lib/hadoop-hdfs/bin:/opt/hadoop/bin\n",
    "!hdfs dfs -rm -r /user/dominospark/example*\n",
    "!echo $PYTHONPATH"
   ]
  },
  {
   "cell_type": "code",
   "execution_count": 2,
   "metadata": {},
   "outputs": [],
   "source": [
    "#https://saagie.zendesk.com/hc/en-us/articles/360029759552-PySpark-Read-and-Write-Files-from-HDFS\n",
    "#ON EMR FETCH /usr/lib/hadoop-lzo/lib/\n",
    "#spark.executor.extraClassPath /etc/hadoop/conf:/etc/hive/conf:/usr/lib/hadoop-lzo/lib/*:/usr/share/aws/aws-java-sdk/*:/usr/share/aws/emr/emrfs/conf:/usr/share/aws/emr/emrfs/lib/*:/usr/share/aws/emr/emrfs/auxlib/*\n",
    "\n",
    "#spark.driver.extraClassPath /etc/hadoop/conf:/etc/hive/conf:/usr/lib/hadoop-lzo/lib/*:/usr/share/aws/aws-java-sdk/*:/usr/share/aws/emr/emrfs/conf:/usr/share/aws/emr/emrfs/lib/*:/usr/share/aws/emr/emrfs/auxlib/*\n",
    "#%env SUBMIT_ARGS '--jars /opt/spark/conf/hadoop-lzo-0.4.19.jar'\n",
    "from pyspark.sql import SparkSession\n"
   ]
  },
  {
   "cell_type": "code",
   "execution_count": 3,
   "metadata": {},
   "outputs": [],
   "source": [
    "sparkSession = SparkSession.builder.appName(\"example-pyspark-read-and-write\") \\\n",
    ".master('local[*]') \\\n",
    ".config(\"fs.default.name\", \"hdfs://10.0.1.76:8020\") \\\n",
    ".getOrCreate()\n"
   ]
  },
  {
   "cell_type": "code",
   "execution_count": 4,
   "metadata": {},
   "outputs": [
    {
     "data": {
      "text/html": [
       "\n",
       "            <div>\n",
       "                <p><b>SparkSession - in-memory</b></p>\n",
       "                \n",
       "        <div>\n",
       "            <p><b>SparkContext</b></p>\n",
       "\n",
       "            <p><a href=\"http://10.0.54.50:31612\">Spark UI</a></p>\n",
       "\n",
       "            <dl>\n",
       "              <dt>Version</dt>\n",
       "                <dd><code>v3.1.1-amzn-0</code></dd>\n",
       "              <dt>Master</dt>\n",
       "                <dd><code>local[*]</code></dd>\n",
       "              <dt>AppName</dt>\n",
       "                <dd><code>example-pyspark-read-and-write</code></dd>\n",
       "            </dl>\n",
       "        </div>\n",
       "        \n",
       "            </div>\n",
       "        "
      ],
      "text/plain": [
       "<pyspark.sql.session.SparkSession at 0x7f9964ba3d68>"
      ]
     },
     "execution_count": 4,
     "metadata": {},
     "output_type": "execute_result"
    }
   ],
   "source": [
    "sparkSession"
   ]
  },
  {
   "cell_type": "code",
   "execution_count": 5,
   "metadata": {},
   "outputs": [],
   "source": [
    "import random\n",
    "#Create datasets\n",
    "data = []\n",
    "cnt=10000\n",
    "for i in range(cnt):\n",
    "   data.append((i,random.randint(1,100),random.randint(1,100),random.randint(1,100)))"
   ]
  },
  {
   "cell_type": "code",
   "execution_count": 6,
   "metadata": {},
   "outputs": [],
   "source": [
    "hdfs_path='/user/dominospark/example'\n",
    "df = sparkSession.createDataFrame(data)\n",
    "\n",
    "# Write into HDFS\n",
    "df.write.csv(hdfs_path)"
   ]
  },
  {
   "cell_type": "code",
   "execution_count": 7,
   "metadata": {},
   "outputs": [
    {
     "name": "stdout",
     "output_type": "stream",
     "text": [
      "+---+---+---+---+\n",
      "|_c0|_c1|_c2|_c3|\n",
      "+---+---+---+---+\n",
      "|  0| 33|  3| 70|\n",
      "|  1| 88| 15| 75|\n",
      "|  2| 95| 40| 50|\n",
      "|  3|  3| 93| 72|\n",
      "|  4| 42| 91| 96|\n",
      "|  5| 98| 92| 12|\n",
      "|  6| 65| 12| 69|\n",
      "|  7| 80| 44| 94|\n",
      "|  8| 80| 26| 37|\n",
      "|  9| 37| 26| 84|\n",
      "| 10| 71| 54| 50|\n",
      "| 11|  4| 87| 27|\n",
      "| 12| 10| 38| 76|\n",
      "| 13| 85| 84| 52|\n",
      "| 14| 58| 17| 49|\n",
      "| 15| 81| 35| 11|\n",
      "| 16|  1| 90| 55|\n",
      "| 17| 94| 20| 78|\n",
      "| 18|  3| 58| 90|\n",
      "| 19| 73| 12| 72|\n",
      "+---+---+---+---+\n",
      "only showing top 20 rows\n",
      "\n"
     ]
    }
   ],
   "source": [
    "df_load = sparkSession.read.csv(hdfs_path)\n",
    "df_load.show()"
   ]
  },
  {
   "cell_type": "code",
   "execution_count": 8,
   "metadata": {},
   "outputs": [],
   "source": [
    "sparkSession.stop()"
   ]
  },
  {
   "cell_type": "code",
   "execution_count": 9,
   "metadata": {},
   "outputs": [
    {
     "name": "stdout",
     "output_type": "stream",
     "text": [
      "Found 4 items\n",
      "drwxr-xr-x   - dominospark dominospark          0 2021-08-12 05:06 /user/dominospark/.sparkStaging\n",
      "drwxr-xr-x   - dominospark dominospark          0 2021-08-12 16:34 /user/dominospark/example\n",
      "drwxr-xr-x   - dominospark dominospark          0 2021-08-12 05:06 /user/dominospark/mypi\n",
      "drwxr-xr-x   - dominospark dominospark          0 2021-08-11 15:36 /user/dominospark/test\n"
     ]
    }
   ],
   "source": [
    "!hdfs dfs -ls /user/dominospark"
   ]
  },
  {
   "cell_type": "code",
   "execution_count": null,
   "metadata": {},
   "outputs": [],
   "source": []
  },
  {
   "cell_type": "code",
   "execution_count": null,
   "metadata": {},
   "outputs": [],
   "source": []
  }
 ],
 "metadata": {
  "kernelspec": {
   "display_name": "Python 3",
   "language": "python",
   "name": "python3"
  },
  "language_info": {
   "codemirror_mode": {
    "name": "ipython",
    "version": 3
   },
   "file_extension": ".py",
   "mimetype": "text/x-python",
   "name": "python",
   "nbconvert_exporter": "python",
   "pygments_lexer": "ipython3",
   "version": "3.6.10"
  }
 },
 "nbformat": 4,
 "nbformat_minor": 4
}
