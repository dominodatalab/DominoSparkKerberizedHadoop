{
 "cells": [
  {
   "cell_type": "code",
   "execution_count": 1,
   "metadata": {},
   "outputs": [
    {
     "name": "stdout",
     "output_type": "stream",
     "text": [
      "rmr: DEPRECATED: Please use '-rm -r' instead.\n",
      "Deleted example\n"
     ]
    }
   ],
   "source": [
    "!hdfs dfs -rmr example*"
   ]
  },
  {
   "cell_type": "code",
   "execution_count": 2,
   "metadata": {},
   "outputs": [],
   "source": [
    "from pyspark.sql import SparkSession\n"
   ]
  },
  {
   "cell_type": "code",
   "execution_count": 3,
   "metadata": {},
   "outputs": [],
   "source": [
    "sparkSession = SparkSession.builder.appName(\"example-pyspark-read-and-write\") \\\n",
    ".config(\"fs.default.name\", \"hdfs://10.0.1.76:8020\") \\\n",
    ".getOrCreate()\n"
   ]
  },
  {
   "cell_type": "code",
   "execution_count": 4,
   "metadata": {},
   "outputs": [
    {
     "data": {
      "text/html": [
       "\n",
       "            <div>\n",
       "                <p><b>SparkSession - in-memory</b></p>\n",
       "                \n",
       "        <div>\n",
       "            <p><b>SparkContext</b></p>\n",
       "\n",
       "            <p><a href=\"http://10.0.52.42:32537\">Spark UI</a></p>\n",
       "\n",
       "            <dl>\n",
       "              <dt>Version</dt>\n",
       "                <dd><code>v3.1.1-amzn-0</code></dd>\n",
       "              <dt>Master</dt>\n",
       "                <dd><code>yarn</code></dd>\n",
       "              <dt>AppName</dt>\n",
       "                <dd><code>example-pyspark-read-and-write</code></dd>\n",
       "            </dl>\n",
       "        </div>\n",
       "        \n",
       "            </div>\n",
       "        "
      ],
      "text/plain": [
       "<pyspark.sql.session.SparkSession at 0x7f23fd057610>"
      ]
     },
     "execution_count": 4,
     "metadata": {},
     "output_type": "execute_result"
    }
   ],
   "source": [
    "sparkSession"
   ]
  },
  {
   "cell_type": "code",
   "execution_count": 5,
   "metadata": {},
   "outputs": [],
   "source": [
    "import random\n",
    "#Create datasets\n",
    "data = []\n",
    "cnt=10000\n",
    "for i in range(cnt):\n",
    "   data.append((i,random.randint(1,100),random.randint(1,100),random.randint(1,100)))\n"
   ]
  },
  {
   "cell_type": "code",
   "execution_count": 6,
   "metadata": {},
   "outputs": [],
   "source": [
    "# Create data\n",
    "#data = [('First', 1), ('Second', 2), ('Third', 3), ('Fourth', 4), ('Fifth', 5)]\n",
    "df = sparkSession.createDataFrame(data)\n",
    "\n",
    "# Write into HDFS\n",
    "df.write.csv(\"/user/dominospark/example\")"
   ]
  },
  {
   "cell_type": "code",
   "execution_count": 7,
   "metadata": {},
   "outputs": [
    {
     "name": "stdout",
     "output_type": "stream",
     "text": [
      "+---+---+---+---+\n",
      "|_c0|_c1|_c2|_c3|\n",
      "+---+---+---+---+\n",
      "|  0| 97|  5| 73|\n",
      "|  1| 45| 10|  4|\n",
      "|  2| 46| 67| 46|\n",
      "|  3| 40| 54| 44|\n",
      "|  4|  5| 43|  9|\n",
      "|  5| 17| 66| 45|\n",
      "|  6| 17| 23| 67|\n",
      "|  7| 67| 54| 17|\n",
      "|  8| 78| 66| 25|\n",
      "|  9|  7| 88| 15|\n",
      "| 10| 38| 18| 40|\n",
      "| 11| 16| 64| 65|\n",
      "| 12| 50| 50| 20|\n",
      "| 13| 26| 81| 99|\n",
      "| 14| 24|  9| 71|\n",
      "| 15| 98| 32| 17|\n",
      "| 16| 30| 48| 33|\n",
      "| 17| 96| 30| 41|\n",
      "| 18| 83| 50|  6|\n",
      "| 19| 45| 39| 42|\n",
      "+---+---+---+---+\n",
      "only showing top 20 rows\n",
      "\n"
     ]
    }
   ],
   "source": [
    "df_load = sparkSession.read.csv('/user/dominospark/example')\n",
    "df_load.show()"
   ]
  },
  {
   "cell_type": "code",
   "execution_count": 8,
   "metadata": {},
   "outputs": [],
   "source": [
    "sparkSession.stop()"
   ]
  },
  {
   "cell_type": "code",
   "execution_count": 9,
   "metadata": {},
   "outputs": [
    {
     "name": "stdout",
     "output_type": "stream",
     "text": [
      "Found 4 items\n",
      "drwxr-xr-x   - dominospark dominospark          0 2021-08-12 21:35 /user/dominospark/.sparkStaging\n",
      "drwxr-xr-x   - dominospark dominospark          0 2021-08-12 21:35 /user/dominospark/example\n",
      "drwxr-xr-x   - dominospark dominospark          0 2021-08-12 20:07 /user/dominospark/mypi\n",
      "drwxr-xr-x   - dominospark dominospark          0 2021-08-11 15:36 /user/dominospark/test\n"
     ]
    }
   ],
   "source": [
    "!hdfs dfs -ls /user/dominospark"
   ]
  },
  {
   "cell_type": "code",
   "execution_count": null,
   "metadata": {},
   "outputs": [],
   "source": []
  },
  {
   "cell_type": "code",
   "execution_count": null,
   "metadata": {},
   "outputs": [],
   "source": []
  }
 ],
 "metadata": {
  "kernelspec": {
   "display_name": "Python 3",
   "language": "python",
   "name": "python3"
  },
  "language_info": {
   "codemirror_mode": {
    "name": "ipython",
    "version": 3
   },
   "file_extension": ".py",
   "mimetype": "text/x-python",
   "name": "python",
   "nbconvert_exporter": "python",
   "pygments_lexer": "ipython3",
   "version": "3.7.4"
  }
 },
 "nbformat": 4,
 "nbformat_minor": 4
}
