{
 "cells": [
  {
   "cell_type": "code",
   "execution_count": 1,
   "metadata": {},
   "outputs": [],
   "source": [
    "\n",
    "%load_ext sparkmagic.magics\n",
    "\n",
    "#Livy endpoint http://10.0.123.114:8998\n"
   ]
  },
  {
   "cell_type": "code",
   "execution_count": 2,
   "metadata": {},
   "outputs": [
    {
     "name": "stdout",
     "output_type": "stream",
     "text": [
      "Ticket cache: FILE:/tmp/krb5cc_12574\n",
      "Default principal: dominospark@KDCDOMINO.COM\n",
      "\n",
      "Valid starting       Expires              Service principal\n",
      "08/17/2021 15:45:20  08/18/2021 01:45:20  krbtgt/KDCDOMINO.COM@KDCDOMINO.COM\n",
      "\trenew until 08/18/2021 15:45:20\n",
      "08/17/2021 15:45:45  08/18/2021 01:45:20  HTTP/ip-10-0-123-114.us-west-2.compute.internal@KDCDOMINO.COM\n",
      "\trenew until 08/18/2021 15:45:20\n"
     ]
    }
   ],
   "source": [
    "\n",
    "!klist"
   ]
  },
  {
   "cell_type": "code",
   "execution_count": 3,
   "metadata": {},
   "outputs": [
    {
     "data": {
      "application/vnd.jupyter.widget-view+json": {
       "model_id": "d3a53fe92ccb4d129fb9eb2f4e3df9e3",
       "version_major": 2,
       "version_minor": 0
      },
      "text/plain": [
       "MagicsControllerWidget(children=(Tab(children=(ManageSessionWidget(children=(HTML(value='<br/>'), HTML(value='…"
      ]
     },
     "metadata": {},
     "output_type": "display_data"
    }
   ],
   "source": [
    "%manage_spark"
   ]
  },
  {
   "cell_type": "code",
   "execution_count": 4,
   "metadata": {},
   "outputs": [],
   "source": [
    "%spark?"
   ]
  },
  {
   "cell_type": "code",
   "execution_count": 4,
   "metadata": {},
   "outputs": [
    {
     "data": {
      "application/vnd.jupyter.widget-view+json": {
       "model_id": "",
       "version_major": 2,
       "version_minor": 0
      },
      "text/plain": [
       "FloatProgress(value=0.0, bar_style='info', description='Progress:', layout=Layout(height='25px', width='50%'),…"
      ]
     },
     "metadata": {},
     "output_type": "display_data"
    }
   ],
   "source": [
    "%spark "
   ]
  },
  {
   "cell_type": "code",
   "execution_count": 5,
   "metadata": {},
   "outputs": [
    {
     "data": {
      "application/vnd.jupyter.widget-view+json": {
       "model_id": "",
       "version_major": 2,
       "version_minor": 0
      },
      "text/plain": [
       "FloatProgress(value=0.0, bar_style='info', description='Progress:', layout=Layout(height='25px', width='50%'),…"
      ]
     },
     "metadata": {},
     "output_type": "display_data"
    },
    {
     "name": "stdout",
     "output_type": "stream",
     "text": [
      "First element of numbers is 1 and its description is:\n",
      "b'(2) ParallelCollectionRDD[0] at readRDDFromFile at PythonRDD.scala:274 []'\n",
      "Count of numbers is 4 \n",
      "b'(2) ParallelCollectionRDD[0] at readRDDFromFile at PythonRDD.scala:274 []'"
     ]
    }
   ],
   "source": [
    "%%spark\n",
    "numbers = sc.parallelize([1, 2, 3, 4])\n",
    "print('First element of numbers is {} and its description is:\\n{}'.format(numbers.first(), numbers.toDebugString()))\n",
    "print('Count of numbers is {} \\n{}'.format(numbers.count(), numbers.toDebugString()))"
   ]
  },
  {
   "cell_type": "code",
   "execution_count": 6,
   "metadata": {},
   "outputs": [
    {
     "name": "stdout",
     "output_type": "stream",
     "text": [
      "Info for running Spark:\n",
      "    Sessions:\n",
      "        Name: spark-session\tSession id: 15\tYARN id: application_1628875993215_0039\tKind: pyspark\tState: idle\n",
      "\tSpark UI: http://ip-10-0-123-114.us-west-2.compute.internal:20888/proxy/application_1628875993215_0039/\n",
      "\tDriver Log: http://ip-10-0-113-154.us-west-2.compute.internal:8042/node/containerlogs/container_1628875993215_0039_01_000001/dominospark\n",
      "    Session configs:\n",
      "        {'driverMemory': '1000M', 'executorCores': 2}\n",
      "\n"
     ]
    }
   ],
   "source": [
    "%spark info"
   ]
  },
  {
   "cell_type": "code",
   "execution_count": 7,
   "metadata": {},
   "outputs": [
    {
     "data": {
      "application/vnd.jupyter.widget-view+json": {
       "model_id": "",
       "version_major": 2,
       "version_minor": 0
      },
      "text/plain": [
       "FloatProgress(value=0.0, bar_style='info', description='Progress:', layout=Layout(height='25px', width='50%'),…"
      ]
     },
     "metadata": {},
     "output_type": "display_data"
    }
   ],
   "source": [
    "%%spark -s spark-session\n",
    "##Only if you have multiple spark sessions or else simple %%spark works\n",
    "from pyspark.sql import SparkSession\n",
    "from pyspark.sql.types import StructType,StructField, StringType, DoubleType, IntegerType\n",
    "import random"
   ]
  },
  {
   "cell_type": "code",
   "execution_count": 8,
   "metadata": {},
   "outputs": [
    {
     "data": {
      "application/vnd.jupyter.widget-view+json": {
       "model_id": "",
       "version_major": 2,
       "version_minor": 0
      },
      "text/plain": [
       "FloatProgress(value=0.0, bar_style='info', description='Progress:', layout=Layout(height='25px', width='50%'),…"
      ]
     },
     "metadata": {},
     "output_type": "display_data"
    },
    {
     "name": "stdout",
     "output_type": "stream",
     "text": [
      "+----+-----+\n",
      "|name|value|\n",
      "+----+-----+\n",
      "|  Pi|3.204|\n",
      "+----+-----+"
     ]
    }
   ],
   "source": [
    "%%spark -s spark-session\n",
    "##Only if you have multiple spark sessions or else simple %%spark works\n",
    "\n",
    "def inside(p):\n",
    "    x, y = random.random(), random.random()\n",
    "    return x*x + y*y < 1\n",
    "\n",
    "columns = StructType([ StructField(\"name\", StringType(), True),\n",
    "                      StructField(\"value\", DoubleType(), True)\n",
    "                    ])\n",
    "\n",
    "count = sc.parallelize(range(0, 1000),1) \\\n",
    "             .filter(inside).count()\n",
    "data = [(\"Pi\",4.0 * count/1000)]\n",
    "\n",
    "df = spark.createDataFrame(data=data, schema=columns)\n",
    "\n",
    "df.show()\n"
   ]
  },
  {
   "cell_type": "code",
   "execution_count": 9,
   "metadata": {},
   "outputs": [
    {
     "name": "stdout",
     "output_type": "stream",
     "text": [
      "rmr: DEPRECATED: Please use '-rm -r' instead.\n",
      "Deleted /user/dominospark/large-data-livy\n",
      "Deleted /user/dominospark/large-data-livy-2\n",
      "Deleted /user/dominospark/large-data-livy-3\n",
      "Deleted /user/dominospark/large-data-livy-4\n"
     ]
    }
   ],
   "source": [
    "!/mnt/code/scripts/my_hdfs.sh dfs -rmr /user/dominospark/large-data-livy*"
   ]
  },
  {
   "cell_type": "code",
   "execution_count": 10,
   "metadata": {},
   "outputs": [
    {
     "data": {
      "application/vnd.jupyter.widget-view+json": {
       "model_id": "",
       "version_major": 2,
       "version_minor": 0
      },
      "text/plain": [
       "FloatProgress(value=0.0, bar_style='info', description='Progress:', layout=Layout(height='25px', width='50%'),…"
      ]
     },
     "metadata": {},
     "output_type": "display_data"
    },
    {
     "name": "stdout",
     "output_type": "stream",
     "text": [
      "+---+---+---+---+\n",
      "| id| v1| v2| v3|\n",
      "+---+---+---+---+\n",
      "|500| 98| 79| 16|\n",
      "|501| 66| 28| 27|\n",
      "|502| 26| 92|  3|\n",
      "|503| 90|  7| 28|\n",
      "|504| 56| 31| 97|\n",
      "|505| 42| 34| 48|\n",
      "|506|  7| 40| 54|\n",
      "|507| 19| 55| 24|\n",
      "|508| 94|  6|  4|\n",
      "|509|  9| 28| 33|\n",
      "|510| 28| 57| 83|\n",
      "|511| 25|  7| 32|\n",
      "|512| 36| 51| 26|\n",
      "|513| 73|  6| 83|\n",
      "|514| 94|  3| 59|\n",
      "|515|100| 15| 62|\n",
      "|516| 31| 20| 35|\n",
      "|517|  5| 86| 49|\n",
      "|518| 59| 79| 53|\n",
      "|519| 47| 22| 57|\n",
      "+---+---+---+---+\n",
      "only showing top 20 rows"
     ]
    }
   ],
   "source": [
    "%%spark\n",
    "\n",
    "hdfs_path='/user/dominospark/large-data-livy'\n",
    "data = []\n",
    "for i in range(1000):\n",
    "    data.append((i,random.randint(1,100),random.randint(1,100),random.randint(1,100)))\n",
    "\n",
    "columns = StructType([ StructField(\"id\", IntegerType(), True),\n",
    "                       StructField(\"v1\", IntegerType(), True),\n",
    "                       StructField(\"v2\", IntegerType(), True),\n",
    "                       StructField(\"v3\", IntegerType(), True) ])\n",
    "\n",
    "df = spark.createDataFrame(data=data, schema=columns)\n",
    "df.write.csv(hdfs_path)\n",
    "\n",
    "df_load = spark.read.csv( hdfs_path, schema=columns)\n",
    "df_load.show()"
   ]
  },
  {
   "cell_type": "code",
   "execution_count": 13,
   "metadata": {},
   "outputs": [
    {
     "data": {
      "application/vnd.jupyter.widget-view+json": {
       "model_id": "cfd1a8ca833a40ad985538c65c638fc2",
       "version_major": 2,
       "version_minor": 0
      },
      "text/plain": [
       "MagicsControllerWidget(children=(Tab(children=(ManageSessionWidget(children=(HTML(value='<br/>'), HBox(childre…"
      ]
     },
     "metadata": {},
     "output_type": "display_data"
    }
   ],
   "source": [
    "\n",
    "%manage_spark"
   ]
  },
  {
   "cell_type": "code",
   "execution_count": null,
   "metadata": {},
   "outputs": [],
   "source": [
    "%%cleanup -f"
   ]
  }
 ],
 "metadata": {
  "kernelspec": {
   "display_name": "Python 3",
   "language": "python",
   "name": "python3"
  },
  "language_info": {
   "codemirror_mode": {
    "name": "ipython",
    "version": 3
   },
   "file_extension": ".py",
   "mimetype": "text/x-python",
   "name": "python",
   "nbconvert_exporter": "python",
   "pygments_lexer": "ipython3",
   "version": "3.8.8"
  }
 },
 "nbformat": 4,
 "nbformat_minor": 4
}
